{
  "nbformat": 4,
  "nbformat_minor": 0,
  "metadata": {
    "colab": {
      "name": "data-science-covid-data-br-rs",
      "provenance": [],
      "authorship_tag": "ABX9TyOFZWetGD7BCuwA6lXBbx/r",
      "include_colab_link": true
    },
    "kernelspec": {
      "name": "python3",
      "display_name": "Python 3"
    }
  },
  "cells": [
    {
      "cell_type": "markdown",
      "metadata": {
        "id": "view-in-github",
        "colab_type": "text"
      },
      "source": [
        "<a href=\"https://colab.research.google.com/github/mourodrigo/mourodrigo-data-science-covid-data-br-rs/blob/master/data_science_covid_data_br_rs.ipynb\" target=\"_parent\"><img src=\"https://colab.research.google.com/assets/colab-badge.svg\" alt=\"Open In Colab\"/></a>"
      ]
    },
    {
      "cell_type": "markdown",
      "metadata": {
        "id": "QcEXxcRqy2Gv",
        "colab_type": "text"
      },
      "source": [
        "## Download dos dados atualizados do Ministério da Saúde"
      ]
    },
    {
      "cell_type": "code",
      "metadata": {
        "id": "07DY076v6g-X",
        "colab_type": "code",
        "cellView": "form",
        "colab": {}
      },
      "source": [
        "#@title\n",
        "import pandas as pd\n",
        "import sys\n",
        "from datetime import date, timedelta\n",
        "import matplotlib.pyplot as plt\n"
      ],
      "execution_count": 1,
      "outputs": []
    },
    {
      "cell_type": "code",
      "metadata": {
        "id": "Nl-jnhu8wTVN",
        "colab_type": "code",
        "cellView": "form",
        "colab": {
          "base_uri": "https://localhost:8080/",
          "height": 272
        },
        "outputId": "3c656914-6d5e-4b70-e0c8-fd46e61b3825"
      },
      "source": [
        "#@title Getting fresh data\n",
        "!wget -O sample_data/covid_rs.csv http://ti.saude.rs.gov.br/covid19/download\n",
        "\n",
        "rs = pd.read_csv(\"sample_data/covid_rs.csv\", error_bad_lines=False, encoding='cp1252', delimiter = ';')"
      ],
      "execution_count": 2,
      "outputs": [
        {
          "output_type": "stream",
          "text": [
            "--2020-07-17 13:23:58--  http://ti.saude.rs.gov.br/covid19/download\n",
            "Resolving ti.saude.rs.gov.br (ti.saude.rs.gov.br)... 200.198.173.170\n",
            "Connecting to ti.saude.rs.gov.br (ti.saude.rs.gov.br)|200.198.173.170|:80... connected.\n",
            "HTTP request sent, awaiting response... 301 Moved Permanently\n",
            "Location: https://ti.saude.rs.gov.br/covid19/download [following]\n",
            "--2020-07-17 13:24:00--  https://ti.saude.rs.gov.br/covid19/download\n",
            "Connecting to ti.saude.rs.gov.br (ti.saude.rs.gov.br)|200.198.173.170|:443... connected.\n",
            "HTTP request sent, awaiting response... 200 OK\n",
            "Length: unspecified [text/csv]\n",
            "Saving to: ‘sample_data/covid_rs.csv’\n",
            "\n",
            "sample_data/covid_r     [               <=>  ]   7.97M  2.46MB/s    in 3.2s    \n",
            "\n",
            "2020-07-17 13:24:04 (2.46 MB/s) - ‘sample_data/covid_rs.csv’ saved [8361531]\n",
            "\n"
          ],
          "name": "stdout"
        }
      ]
    },
    {
      "cell_type": "code",
      "metadata": {
        "id": "zCZdyJmzwZm1",
        "colab_type": "code",
        "cellView": "form",
        "colab": {}
      },
      "source": [
        "#@title Parsing data\n",
        "\n",
        "rs['DATA_CONFIRMACAO'] = pd.to_datetime(rs['DATA_CONFIRMACAO'], format='%d/%m/%y')\n",
        "rs['DATA_SINTOMAS'] = pd.to_datetime(rs['DATA_SINTOMAS'], format='%d/%m/%y')\n",
        "rs['DATA_EVOLUCAO'] = pd.to_datetime(rs['DATA_EVOLUCAO'], format='%d/%m/%y')\n",
        "rs['DATA_EVOLUCAO_ESTIMADA'] = pd.to_datetime(rs['DATA_EVOLUCAO_ESTIMADA'], format='%d/%m/%y')\n",
        "\n",
        "rs['BAIRRO'] = rs['BAIRRO'].str.normalize('NFKD').str.encode('ascii', errors='ignore').str.decode('utf-8')\n",
        "\n",
        "rs = rs.sort_values(by='DATA_CONFIRMACAO', ascending=False)"
      ],
      "execution_count": 3,
      "outputs": []
    },
    {
      "cell_type": "markdown",
      "metadata": {
        "id": "Jf9iY2OozMUW",
        "colab_type": "text"
      },
      "source": [
        "# Avaliação por região"
      ]
    },
    {
      "cell_type": "code",
      "metadata": {
        "id": "Gu6QVEU_wVRG",
        "colab_type": "code",
        "cellView": "form",
        "colab": {}
      },
      "source": [
        "#@title Filtering cities around me\n",
        "\n",
        "region = rs[\n",
        "            (rs['MUNICIPIO']==\"PLANALTO\")\n",
        "            | (rs['MUNICIPIO']==\"ALPESTRE\")\n",
        "            | (rs['MUNICIPIO']==\"AMETISTA DO SUL\")\n",
        "            # | (rs['MUNICIPIO']==\"NONOAI\")\n",
        "            # | (rs['MUNICIPIO']==\"FREDERICO WESTPHALEN\")\n",
        "            ]\n",
        "region = region.sort_values(by='DATA_CONFIRMACAO', ascending=False)\n",
        "region = region.drop(['COD_REGIAO_COVID', 'REGIAO_COVID', 'COD_IBGE'], axis=1)"
      ],
      "execution_count": 4,
      "outputs": []
    },
    {
      "cell_type": "code",
      "metadata": {
        "id": "8WXuE7Vh6jEi",
        "colab_type": "code",
        "cellView": "form",
        "colab": {}
      },
      "source": [
        "#@title Preparing data with dummy columns to normalize the city info \n",
        "timeline = pd.get_dummies(region, columns=[\"MUNICIPIO\"])\n",
        "\n",
        "#grouping and summing the dummy data\n",
        "grouped = timeline.groupby(\n",
        "     ['DATA_CONFIRMACAO']\n",
        ").agg(\n",
        "     cases_planalto = ('MUNICIPIO_PLANALTO','sum'),\n",
        "     cases_ametista = ('MUNICIPIO_AMETISTA DO SUL','sum'),\n",
        "     cases_alpestre = ('MUNICIPIO_ALPESTRE','sum'),\n",
        "    #  cases_frederico = ('MUNICIPIO_FREDERICO WESTPHALEN','sum'),\n",
        "    #  cases_nonoai = ('MUNICIPIO_NONOAI','sum'),\n",
        "      \n",
        " ).reset_index()\n",
        "\n",
        "#creating an index to work as the x axys on the chart\n",
        "grouped = grouped.set_index('DATA_CONFIRMACAO')"
      ],
      "execution_count": 5,
      "outputs": []
    },
    {
      "cell_type": "markdown",
      "metadata": {
        "id": "DtvTGJfKFd3z",
        "colab_type": "text"
      },
      "source": [
        "**Histórico de casos confirmados na região**"
      ]
    },
    {
      "cell_type": "code",
      "metadata": {
        "id": "kneHhGr2BQ_S",
        "colab_type": "code",
        "cellView": "form",
        "colab": {
          "base_uri": "https://localhost:8080/",
          "height": 352
        },
        "outputId": "d56dce30-8343-4a0f-ff9d-bb7dcabb3411"
      },
      "source": [
        "#@title Grafico histórico de casos confirmados nas cidades determinadas\n",
        "lines = grouped.plot.line(figsize=(30, 5))\n",
        "lines.legend()"
      ],
      "execution_count": 6,
      "outputs": [
        {
          "output_type": "execute_result",
          "data": {
            "text/plain": [
              "<matplotlib.legend.Legend at 0x7f65708c76a0>"
            ]
          },
          "metadata": {
            "tags": []
          },
          "execution_count": 6
        },
        {
          "output_type": "display_data",
          "data": {
            "image/png": "[encoded data removed]",
            "text/plain": [
              "<Figure size 2160x360 with 1 Axes>"
            ]
          },
          "metadata": {
            "tags": [],
            "needs_background": "light"
          }
        }
      ]
    },
    {
      "cell_type": "markdown",
      "metadata": {
        "id": "j8VSoTd70WXK",
        "colab_type": "text"
      },
      "source": [
        "# **Acompanhamento dos ultimos 15 dias da região**"
      ]
    },
    {
      "cell_type": "code",
      "metadata": {
        "id": "4MlqWf71YZzp",
        "colab_type": "code",
        "cellView": "form",
        "colab": {
          "base_uri": "https://localhost:8080/",
          "height": 34
        },
        "outputId": "b18b7a05-e15b-4fe4-8dc7-f83477006748"
      },
      "source": [
        "#@title Filtrando dados dos últimos 15 dias\n",
        "recent_days = (date.today()-timedelta(days=15)).isoformat() # last 15 days\n",
        "region_recent_cases = region[(region['DATA_CONFIRMACAO'] > recent_days)]\n",
        "\n",
        "print(region_recent_cases[\"MUNICIPIO\"].count(), \"casos confirmados nos ultimos 15 dias\")"
      ],
      "execution_count": 7,
      "outputs": [
        {
          "output_type": "stream",
          "text": [
            "16 casos confirmados nos ultimos 15 dias\n"
          ],
          "name": "stdout"
        }
      ]
    },
    {
      "cell_type": "code",
      "metadata": {
        "id": "Ma3XJU7K0CLU",
        "colab_type": "code",
        "cellView": "form",
        "colab": {
          "base_uri": "https://localhost:8080/",
          "height": 854
        },
        "outputId": "4d7f23cb-b9c7-4394-fa54-fa634f7103de"
      },
      "source": [
        "#@title\n",
        "region_recent_cases"
      ],
      "execution_count": 8,
      "outputs": [
        {
          "output_type": "execute_result",
          "data": {
            "text/html": [
              "<div>\n",
              "<style scoped>\n",
              "    .dataframe tbody tr th:only-of-type {\n",
              "        vertical-align: middle;\n",
              "    }\n",
              "\n",
              "    .dataframe tbody tr th {\n",
              "        vertical-align: top;\n",
              "    }\n",
              "\n",
              "    .dataframe thead th {\n",
              "        text-align: right;\n",
              "    }\n",
              "</style>\n",
              "<table border=\"1\" class=\"dataframe\">\n",
              "  <thead>\n",
              "    <tr style=\"text-align: right;\">\n",
              "      <th></th>\n",
              "      <th>MUNICIPIO</th>\n",
              "      <th>SEXO</th>\n",
              "      <th>FAIXAETARIA</th>\n",
              "      <th>CRITERIO</th>\n",
              "      <th>DATA_CONFIRMACAO</th>\n",
              "      <th>DATA_SINTOMAS</th>\n",
              "      <th>DATA_EVOLUCAO</th>\n",
              "      <th>EVOLUCAO</th>\n",
              "      <th>HOSPITALIZADO</th>\n",
              "      <th>FEBRE</th>\n",
              "      <th>TOSSE</th>\n",
              "      <th>GARGANTA</th>\n",
              "      <th>DISPNEIA</th>\n",
              "      <th>OUTROS</th>\n",
              "      <th>COMORBIDADES</th>\n",
              "      <th>DATA_INCLUSAO_OBITO</th>\n",
              "      <th>DATA_EVOLUCAO_ESTIMADA</th>\n",
              "      <th>RACA_COR</th>\n",
              "      <th>PROFISSIONAL_SAUDE</th>\n",
              "      <th>BAIRRO</th>\n",
              "      <th>HOSPITALIZACAO_SRAG</th>\n",
              "      <th>FONTE_INFORMACAO</th>\n",
              "    </tr>\n",
              "  </thead>\n",
              "  <tbody>\n",
              "    <tr>\n",
              "      <th>1086</th>\n",
              "      <td>AMETISTA DO SUL</td>\n",
              "      <td>Feminino</td>\n",
              "      <td>40 a 49</td>\n",
              "      <td>TESTE RÁPIDO</td>\n",
              "      <td>2020-07-14</td>\n",
              "      <td>2020-07-05</td>\n",
              "      <td>NaT</td>\n",
              "      <td>EM ACOMPANHAMENTO</td>\n",
              "      <td>NAO</td>\n",
              "      <td>NAO</td>\n",
              "      <td>NAO</td>\n",
              "      <td>NAO</td>\n",
              "      <td>NAO</td>\n",
              "      <td>SIM</td>\n",
              "      <td>NaN</td>\n",
              "      <td>NaN</td>\n",
              "      <td>NaT</td>\n",
              "      <td>AMARELA</td>\n",
              "      <td>NAO</td>\n",
              "      <td>CENTRO</td>\n",
              "      <td>NAO</td>\n",
              "      <td>E-SUS</td>\n",
              "    </tr>\n",
              "    <tr>\n",
              "      <th>1104</th>\n",
              "      <td>AMETISTA DO SUL</td>\n",
              "      <td>Masculino</td>\n",
              "      <td>30 a 39</td>\n",
              "      <td>TESTE RÁPIDO</td>\n",
              "      <td>2020-07-14</td>\n",
              "      <td>2020-07-05</td>\n",
              "      <td>NaT</td>\n",
              "      <td>EM ACOMPANHAMENTO</td>\n",
              "      <td>NAO</td>\n",
              "      <td>SIM</td>\n",
              "      <td>NAO</td>\n",
              "      <td>NAO</td>\n",
              "      <td>SIM</td>\n",
              "      <td>SIM</td>\n",
              "      <td>NaN</td>\n",
              "      <td>NaN</td>\n",
              "      <td>NaT</td>\n",
              "      <td>BRANCA</td>\n",
              "      <td>NAO</td>\n",
              "      <td>APARECIDA</td>\n",
              "      <td>NAO</td>\n",
              "      <td>E-SUS</td>\n",
              "    </tr>\n",
              "    <tr>\n",
              "      <th>1085</th>\n",
              "      <td>AMETISTA DO SUL</td>\n",
              "      <td>Masculino</td>\n",
              "      <td>20 a 29</td>\n",
              "      <td>TESTE RÁPIDO</td>\n",
              "      <td>2020-07-14</td>\n",
              "      <td>2020-07-07</td>\n",
              "      <td>NaT</td>\n",
              "      <td>EM ACOMPANHAMENTO</td>\n",
              "      <td>NAO</td>\n",
              "      <td>NAO</td>\n",
              "      <td>NAO</td>\n",
              "      <td>SIM</td>\n",
              "      <td>NAO</td>\n",
              "      <td>SIM</td>\n",
              "      <td>NaN</td>\n",
              "      <td>NaN</td>\n",
              "      <td>NaT</td>\n",
              "      <td>BRANCA</td>\n",
              "      <td>NAO</td>\n",
              "      <td>CENTRO</td>\n",
              "      <td>NAO</td>\n",
              "      <td>E-SUS</td>\n",
              "    </tr>\n",
              "    <tr>\n",
              "      <th>28262</th>\n",
              "      <td>PLANALTO</td>\n",
              "      <td>Masculino</td>\n",
              "      <td>30 a 39</td>\n",
              "      <td>TESTE RÁPIDO</td>\n",
              "      <td>2020-07-13</td>\n",
              "      <td>2020-07-13</td>\n",
              "      <td>NaT</td>\n",
              "      <td>EM ACOMPANHAMENTO</td>\n",
              "      <td>NAO</td>\n",
              "      <td>NAO</td>\n",
              "      <td>NAO</td>\n",
              "      <td>NAO</td>\n",
              "      <td>NAO</td>\n",
              "      <td>SIM</td>\n",
              "      <td>NaN</td>\n",
              "      <td>NaN</td>\n",
              "      <td>NaT</td>\n",
              "      <td>INDIGENA</td>\n",
              "      <td>NAO</td>\n",
              "      <td>AREA INDIGENA</td>\n",
              "      <td>NAO</td>\n",
              "      <td>E-SUS</td>\n",
              "    </tr>\n",
              "    <tr>\n",
              "      <th>1103</th>\n",
              "      <td>AMETISTA DO SUL</td>\n",
              "      <td>Masculino</td>\n",
              "      <td>60 a 69</td>\n",
              "      <td>RT-PCR</td>\n",
              "      <td>2020-07-13</td>\n",
              "      <td>2020-07-01</td>\n",
              "      <td>2020-07-13</td>\n",
              "      <td>RECUPERADO</td>\n",
              "      <td>SIM</td>\n",
              "      <td>NAO</td>\n",
              "      <td>SIM</td>\n",
              "      <td>NAO</td>\n",
              "      <td>SIM</td>\n",
              "      <td>SIM</td>\n",
              "      <td>Outra Pneumatopatia Crônica</td>\n",
              "      <td>NaN</td>\n",
              "      <td>NaT</td>\n",
              "      <td>PARDA</td>\n",
              "      <td>NAO INFORMADO</td>\n",
              "      <td>CENTRO</td>\n",
              "      <td>SIM</td>\n",
              "      <td>SIVEP HOSP</td>\n",
              "    </tr>\n",
              "    <tr>\n",
              "      <th>1106</th>\n",
              "      <td>AMETISTA DO SUL</td>\n",
              "      <td>Feminino</td>\n",
              "      <td>40 a 49</td>\n",
              "      <td>Ignorado</td>\n",
              "      <td>2020-07-09</td>\n",
              "      <td>2020-07-08</td>\n",
              "      <td>NaT</td>\n",
              "      <td>EM ACOMPANHAMENTO</td>\n",
              "      <td>NAO</td>\n",
              "      <td>NAO</td>\n",
              "      <td>NAO</td>\n",
              "      <td>NAO</td>\n",
              "      <td>NAO</td>\n",
              "      <td>SIM</td>\n",
              "      <td>NaN</td>\n",
              "      <td>NaN</td>\n",
              "      <td>NaT</td>\n",
              "      <td>BRANCA</td>\n",
              "      <td>NAO</td>\n",
              "      <td>INTERIOR</td>\n",
              "      <td>NAO</td>\n",
              "      <td>E-SUS</td>\n",
              "    </tr>\n",
              "    <tr>\n",
              "      <th>1099</th>\n",
              "      <td>AMETISTA DO SUL</td>\n",
              "      <td>Masculino</td>\n",
              "      <td>30 a 39</td>\n",
              "      <td>TESTE RÁPIDO</td>\n",
              "      <td>2020-07-08</td>\n",
              "      <td>2020-06-30</td>\n",
              "      <td>NaT</td>\n",
              "      <td>RECUPERADO</td>\n",
              "      <td>NAO</td>\n",
              "      <td>NAO</td>\n",
              "      <td>SIM</td>\n",
              "      <td>NAO</td>\n",
              "      <td>NAO</td>\n",
              "      <td>SIM</td>\n",
              "      <td>NaN</td>\n",
              "      <td>NaN</td>\n",
              "      <td>2020-07-14</td>\n",
              "      <td>BRANCA</td>\n",
              "      <td>NAO</td>\n",
              "      <td>BAIRRO APARECIDA</td>\n",
              "      <td>NAO</td>\n",
              "      <td>E-SUS</td>\n",
              "    </tr>\n",
              "    <tr>\n",
              "      <th>1102</th>\n",
              "      <td>AMETISTA DO SUL</td>\n",
              "      <td>Masculino</td>\n",
              "      <td>20 a 29</td>\n",
              "      <td>TESTE RÁPIDO</td>\n",
              "      <td>2020-07-08</td>\n",
              "      <td>2020-06-28</td>\n",
              "      <td>NaT</td>\n",
              "      <td>RECUPERADO</td>\n",
              "      <td>NAO</td>\n",
              "      <td>SIM</td>\n",
              "      <td>NAO</td>\n",
              "      <td>NAO</td>\n",
              "      <td>NAO</td>\n",
              "      <td>SIM</td>\n",
              "      <td>NaN</td>\n",
              "      <td>NaN</td>\n",
              "      <td>2020-07-12</td>\n",
              "      <td>BRANCA</td>\n",
              "      <td>NAO</td>\n",
              "      <td>APARECIDA</td>\n",
              "      <td>NAO</td>\n",
              "      <td>E-SUS</td>\n",
              "    </tr>\n",
              "    <tr>\n",
              "      <th>192</th>\n",
              "      <td>ALPESTRE</td>\n",
              "      <td>Feminino</td>\n",
              "      <td>20 a 29</td>\n",
              "      <td>RT-PCR</td>\n",
              "      <td>2020-07-08</td>\n",
              "      <td>2020-07-06</td>\n",
              "      <td>NaT</td>\n",
              "      <td>EM ACOMPANHAMENTO</td>\n",
              "      <td>NAO</td>\n",
              "      <td>SIM</td>\n",
              "      <td>SIM</td>\n",
              "      <td>SIM</td>\n",
              "      <td>SIM</td>\n",
              "      <td>SIM</td>\n",
              "      <td>NaN</td>\n",
              "      <td>NaN</td>\n",
              "      <td>NaT</td>\n",
              "      <td>BRANCA</td>\n",
              "      <td>NAO</td>\n",
              "      <td>INTERIOR</td>\n",
              "      <td>NAO</td>\n",
              "      <td>E-SUS</td>\n",
              "    </tr>\n",
              "    <tr>\n",
              "      <th>28259</th>\n",
              "      <td>PLANALTO</td>\n",
              "      <td>Masculino</td>\n",
              "      <td>40 a 49</td>\n",
              "      <td>TESTE RÁPIDO</td>\n",
              "      <td>2020-07-08</td>\n",
              "      <td>2020-07-08</td>\n",
              "      <td>NaT</td>\n",
              "      <td>EM ACOMPANHAMENTO</td>\n",
              "      <td>NAO</td>\n",
              "      <td>NAO</td>\n",
              "      <td>NAO</td>\n",
              "      <td>NAO</td>\n",
              "      <td>NAO</td>\n",
              "      <td>SIM</td>\n",
              "      <td>NaN</td>\n",
              "      <td>NaN</td>\n",
              "      <td>NaT</td>\n",
              "      <td>INDIGENA</td>\n",
              "      <td>NAO</td>\n",
              "      <td>AREA INDIGENA</td>\n",
              "      <td>NAO</td>\n",
              "      <td>E-SUS</td>\n",
              "    </tr>\n",
              "    <tr>\n",
              "      <th>28261</th>\n",
              "      <td>PLANALTO</td>\n",
              "      <td>Feminino</td>\n",
              "      <td>30 a 39</td>\n",
              "      <td>TESTE RÁPIDO</td>\n",
              "      <td>2020-07-08</td>\n",
              "      <td>2020-07-08</td>\n",
              "      <td>NaT</td>\n",
              "      <td>EM ACOMPANHAMENTO</td>\n",
              "      <td>NAO</td>\n",
              "      <td>NAO</td>\n",
              "      <td>NAO</td>\n",
              "      <td>NAO</td>\n",
              "      <td>NAO</td>\n",
              "      <td>SIM</td>\n",
              "      <td>Gestante</td>\n",
              "      <td>NaN</td>\n",
              "      <td>NaT</td>\n",
              "      <td>INDIGENA</td>\n",
              "      <td>NAO</td>\n",
              "      <td>AREA INDIGENA</td>\n",
              "      <td>NAO</td>\n",
              "      <td>E-SUS</td>\n",
              "    </tr>\n",
              "    <tr>\n",
              "      <th>28304</th>\n",
              "      <td>PLANALTO</td>\n",
              "      <td>Feminino</td>\n",
              "      <td>20 a 29</td>\n",
              "      <td>TESTE RÁPIDO</td>\n",
              "      <td>2020-07-08</td>\n",
              "      <td>2020-07-01</td>\n",
              "      <td>NaT</td>\n",
              "      <td>RECUPERADO</td>\n",
              "      <td>NAO</td>\n",
              "      <td>NAO</td>\n",
              "      <td>SIM</td>\n",
              "      <td>SIM</td>\n",
              "      <td>NAO</td>\n",
              "      <td>SIM</td>\n",
              "      <td>NaN</td>\n",
              "      <td>NaN</td>\n",
              "      <td>2020-07-15</td>\n",
              "      <td>BRANCA</td>\n",
              "      <td>NAO</td>\n",
              "      <td>CENTRO</td>\n",
              "      <td>NAO</td>\n",
              "      <td>E-SUS</td>\n",
              "    </tr>\n",
              "    <tr>\n",
              "      <th>1101</th>\n",
              "      <td>AMETISTA DO SUL</td>\n",
              "      <td>Feminino</td>\n",
              "      <td>30 a 39</td>\n",
              "      <td>TESTE RÁPIDO</td>\n",
              "      <td>2020-07-08</td>\n",
              "      <td>2020-07-04</td>\n",
              "      <td>NaT</td>\n",
              "      <td>EM ACOMPANHAMENTO</td>\n",
              "      <td>NAO</td>\n",
              "      <td>SIM</td>\n",
              "      <td>NAO</td>\n",
              "      <td>SIM</td>\n",
              "      <td>NAO</td>\n",
              "      <td>SIM</td>\n",
              "      <td>NaN</td>\n",
              "      <td>NaN</td>\n",
              "      <td>NaT</td>\n",
              "      <td>BRANCA</td>\n",
              "      <td>NAO</td>\n",
              "      <td>APARECIDA</td>\n",
              "      <td>NAO</td>\n",
              "      <td>E-SUS</td>\n",
              "    </tr>\n",
              "    <tr>\n",
              "      <th>1097</th>\n",
              "      <td>AMETISTA DO SUL</td>\n",
              "      <td>Feminino</td>\n",
              "      <td>60 a 69</td>\n",
              "      <td>TESTE RÁPIDO</td>\n",
              "      <td>2020-07-06</td>\n",
              "      <td>2020-06-26</td>\n",
              "      <td>NaT</td>\n",
              "      <td>RECUPERADO</td>\n",
              "      <td>NAO</td>\n",
              "      <td>NAO</td>\n",
              "      <td>SIM</td>\n",
              "      <td>SIM</td>\n",
              "      <td>SIM</td>\n",
              "      <td>SIM</td>\n",
              "      <td>NaN</td>\n",
              "      <td>NaN</td>\n",
              "      <td>2020-07-10</td>\n",
              "      <td>BRANCA</td>\n",
              "      <td>NAO</td>\n",
              "      <td>APARECIDA</td>\n",
              "      <td>NAO</td>\n",
              "      <td>E-SUS</td>\n",
              "    </tr>\n",
              "    <tr>\n",
              "      <th>1098</th>\n",
              "      <td>AMETISTA DO SUL</td>\n",
              "      <td>Masculino</td>\n",
              "      <td>50 a 59</td>\n",
              "      <td>TESTE RÁPIDO</td>\n",
              "      <td>2020-07-06</td>\n",
              "      <td>2020-06-26</td>\n",
              "      <td>NaT</td>\n",
              "      <td>RECUPERADO</td>\n",
              "      <td>NAO</td>\n",
              "      <td>SIM</td>\n",
              "      <td>SIM</td>\n",
              "      <td>SIM</td>\n",
              "      <td>SIM</td>\n",
              "      <td>SIM</td>\n",
              "      <td>NaN</td>\n",
              "      <td>NaN</td>\n",
              "      <td>2020-07-10</td>\n",
              "      <td>BRANCA</td>\n",
              "      <td>NAO</td>\n",
              "      <td>APARECIDA</td>\n",
              "      <td>NAO</td>\n",
              "      <td>E-SUS</td>\n",
              "    </tr>\n",
              "    <tr>\n",
              "      <th>28282</th>\n",
              "      <td>PLANALTO</td>\n",
              "      <td>Masculino</td>\n",
              "      <td>30 a 39</td>\n",
              "      <td>TESTE RÁPIDO</td>\n",
              "      <td>2020-07-03</td>\n",
              "      <td>2020-06-19</td>\n",
              "      <td>NaT</td>\n",
              "      <td>RECUPERADO</td>\n",
              "      <td>NAO</td>\n",
              "      <td>SIM</td>\n",
              "      <td>SIM</td>\n",
              "      <td>SIM</td>\n",
              "      <td>NAO</td>\n",
              "      <td>SIM</td>\n",
              "      <td>NaN</td>\n",
              "      <td>NaN</td>\n",
              "      <td>2020-07-03</td>\n",
              "      <td>BRANCA</td>\n",
              "      <td>NAO</td>\n",
              "      <td>CENTRO</td>\n",
              "      <td>NAO</td>\n",
              "      <td>E-SUS</td>\n",
              "    </tr>\n",
              "  </tbody>\n",
              "</table>\n",
              "</div>"
            ],
            "text/plain": [
              "             MUNICIPIO       SEXO  ... HOSPITALIZACAO_SRAG FONTE_INFORMACAO\n",
              "1086   AMETISTA DO SUL   Feminino  ...                 NAO            E-SUS\n",
              "1104   AMETISTA DO SUL  Masculino  ...                 NAO            E-SUS\n",
              "1085   AMETISTA DO SUL  Masculino  ...                 NAO            E-SUS\n",
              "28262         PLANALTO  Masculino  ...                 NAO            E-SUS\n",
              "1103   AMETISTA DO SUL  Masculino  ...                 SIM       SIVEP HOSP\n",
              "1106   AMETISTA DO SUL   Feminino  ...                 NAO            E-SUS\n",
              "1099   AMETISTA DO SUL  Masculino  ...                 NAO            E-SUS\n",
              "1102   AMETISTA DO SUL  Masculino  ...                 NAO            E-SUS\n",
              "192           ALPESTRE   Feminino  ...                 NAO            E-SUS\n",
              "28259         PLANALTO  Masculino  ...                 NAO            E-SUS\n",
              "28261         PLANALTO   Feminino  ...                 NAO            E-SUS\n",
              "28304         PLANALTO   Feminino  ...                 NAO            E-SUS\n",
              "1101   AMETISTA DO SUL   Feminino  ...                 NAO            E-SUS\n",
              "1097   AMETISTA DO SUL   Feminino  ...                 NAO            E-SUS\n",
              "1098   AMETISTA DO SUL  Masculino  ...                 NAO            E-SUS\n",
              "28282         PLANALTO  Masculino  ...                 NAO            E-SUS\n",
              "\n",
              "[16 rows x 22 columns]"
            ]
          },
          "metadata": {
            "tags": []
          },
          "execution_count": 8
        }
      ]
    },
    {
      "cell_type": "markdown",
      "metadata": {
        "id": "1l0Ld0CEs-nq",
        "colab_type": "text"
      },
      "source": [
        "**Estado/evolução dos casos mais recentes**"
      ]
    },
    {
      "cell_type": "code",
      "metadata": {
        "id": "MyEYuxso00Lc",
        "colab_type": "code",
        "cellView": "form",
        "colab": {
          "base_uri": "https://localhost:8080/",
          "height": 371
        },
        "outputId": "e07dcb8d-963c-41c7-d1bd-f327e49bdd1e"
      },
      "source": [
        "#@title\n",
        "region_recent_current_status = region_recent_cases.groupby('EVOLUCAO').size()\n",
        "print(region_recent_current_status)\n",
        "chart_region_recent_current_status = region_recent_current_status.plot.pie(figsize=(5, 5))\n"
      ],
      "execution_count": 9,
      "outputs": [
        {
          "output_type": "stream",
          "text": [
            "EVOLUCAO\n",
            "EM ACOMPANHAMENTO    9\n",
            "RECUPERADO           7\n",
            "dtype: int64\n"
          ],
          "name": "stdout"
        },
        {
          "output_type": "display_data",
          "data": {
            "image/png": "[encoded data removed]",
            "text/plain": [
              "<Figure size 360x360 with 1 Axes>"
            ]
          },
          "metadata": {
            "tags": []
          }
        }
      ]
    },
    {
      "cell_type": "markdown",
      "metadata": {
        "id": "UZV7ISHetKs5",
        "colab_type": "text"
      },
      "source": [
        "**Cidades dos casos mais recentes**"
      ]
    },
    {
      "cell_type": "code",
      "metadata": {
        "id": "eKVUu0hZ8ZCO",
        "colab_type": "code",
        "cellView": "form",
        "colab": {
          "base_uri": "https://localhost:8080/",
          "height": 499
        },
        "outputId": "74351018-d7bf-4e65-ceb7-8adbdae4110d"
      },
      "source": [
        "#@title\n",
        "cities = region_recent_cases.groupby('MUNICIPIO').size()\n",
        "chart_cities = cities.plot.bar(figsize=(5, 5))\n",
        "print(cities)\n"
      ],
      "execution_count": 10,
      "outputs": [
        {
          "output_type": "stream",
          "text": [
            "MUNICIPIO\n",
            "ALPESTRE            1\n",
            "AMETISTA DO SUL    10\n",
            "PLANALTO            5\n",
            "dtype: int64\n"
          ],
          "name": "stdout"
        },
        {
          "output_type": "display_data",
          "data": {
            "image/png": "[encoded data removed]",
            "text/plain": [
              "<Figure size 360x360 with 1 Axes>"
            ]
          },
          "metadata": {
            "tags": [],
            "needs_background": "light"
          }
        }
      ]
    },
    {
      "cell_type": "markdown",
      "metadata": {
        "id": "1FQdZq-b0zjV",
        "colab_type": "text"
      },
      "source": [
        "\n",
        "# Avaliação cidade de Planalto - RS"
      ]
    },
    {
      "cell_type": "code",
      "metadata": {
        "id": "jv81PGwPqgpK",
        "colab_type": "code",
        "cellView": "both",
        "colab": {}
      },
      "source": [
        "#@title\n",
        "city = \"PLANALTO\"\n",
        "\n",
        "# RECENT CASES\n",
        "cidade = region_recent_cases[\n",
        "            (region_recent_cases['MUNICIPIO']==city)\n",
        "            ]\n",
        "\n",
        "# ALL CASES\n",
        "# cidade = rs[\n",
        "#             (rs['MUNICIPIO']==city)\n",
        "#             ]"
      ],
      "execution_count": 11,
      "outputs": []
    },
    {
      "cell_type": "code",
      "metadata": {
        "id": "vr7wpcYxqc_d",
        "colab_type": "code",
        "cellView": "both",
        "colab": {
          "base_uri": "https://localhost:8080/",
          "height": 34
        },
        "outputId": "6e669233-008b-49a7-f3e8-6237b911cd54"
      },
      "source": [
        "#@title Casos ativos recentes\n",
        "print(cidade[\"MUNICIPIO\"].count(), \"casos ativos em\",city,\"nos ultimos 15 dias\")"
      ],
      "execution_count": 12,
      "outputs": [
        {
          "output_type": "stream",
          "text": [
            "5 casos ativos em PLANALTO nos ultimos 15 dias\n"
          ],
          "name": "stdout"
        }
      ]
    },
    {
      "cell_type": "code",
      "metadata": {
        "id": "7-vbxYx5qOBf",
        "colab_type": "code",
        "cellView": "form",
        "colab": {
          "base_uri": "https://localhost:8080/",
          "height": 388
        },
        "outputId": "9c396e66-f67d-447e-be10-2d50ae9dccac"
      },
      "source": [
        "#@title Bairros dos casos recentes\n",
        "neighborhoods_city = cidade.groupby('BAIRRO').size()\n",
        "print(neighborhoods_city)\n",
        "\n",
        "chart_neighborhoods_city = neighborhoods_city.plot.pie(figsize=(5, 5))\n",
        "chart_neighborhoods_city"
      ],
      "execution_count": 13,
      "outputs": [
        {
          "output_type": "stream",
          "text": [
            "BAIRRO\n",
            "AREA INDIGENA    3\n",
            "CENTRO           2\n",
            "dtype: int64\n"
          ],
          "name": "stdout"
        },
        {
          "output_type": "execute_result",
          "data": {
            "text/plain": [
              "<matplotlib.axes._subplots.AxesSubplot at 0x7f65709e5f60>"
            ]
          },
          "metadata": {
            "tags": []
          },
          "execution_count": 13
        },
        {
          "output_type": "display_data",
          "data": {
            "image/png": "[encoded data removed]",
            "text/plain": [
              "<Figure size 360x360 with 1 Axes>"
            ]
          },
          "metadata": {
            "tags": []
          }
        }
      ]
    },
    {
      "cell_type": "code",
      "metadata": {
        "id": "mwoIkRNb-zgE",
        "colab_type": "code",
        "cellView": "form",
        "colab": {
          "base_uri": "https://localhost:8080/",
          "height": 405
        },
        "outputId": "0a36f40d-67cc-4166-83de-95196f2b8270"
      },
      "source": [
        "#@title Faixa etária dos casos recentes\n",
        "age = cidade.groupby('FAIXAETARIA').size()\n",
        "print(age)\n",
        "\n",
        "chart_age = age.plot.pie(figsize=(5, 5))\n",
        "chart_age"
      ],
      "execution_count": 14,
      "outputs": [
        {
          "output_type": "stream",
          "text": [
            "FAIXAETARIA\n",
            "20 a 29    1\n",
            "30 a 39    3\n",
            "40 a 49    1\n",
            "dtype: int64\n"
          ],
          "name": "stdout"
        },
        {
          "output_type": "execute_result",
          "data": {
            "text/plain": [
              "<matplotlib.axes._subplots.AxesSubplot at 0x7f65708df908>"
            ]
          },
          "metadata": {
            "tags": []
          },
          "execution_count": 14
        },
        {
          "output_type": "display_data",
          "data": {
            "image/png": "[encoded data removed]",
            "text/plain": [
              "<Figure size 360x360 with 1 Axes>"
            ]
          },
          "metadata": {
            "tags": []
          }
        }
      ]
    }
  ]
}